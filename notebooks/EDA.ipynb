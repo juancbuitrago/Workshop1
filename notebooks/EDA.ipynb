{
 "cells": [
  {
   "cell_type": "markdown",
   "id": "88145065-ba5a-4746-abb9-9918248af299",
   "metadata": {},
   "source": [
    "## Import libraries"
   ]
  },
  {
   "cell_type": "code",
   "execution_count": 1,
   "id": "f6449737-a918-444f-bad3-40f700a7a0b0",
   "metadata": {},
   "outputs": [],
   "source": [
    "import pandas as pd\n"
   ]
  },
  {
   "cell_type": "markdown",
   "id": "b2d1b4ab-7d47-4d1a-929f-9934d4f9f73a",
   "metadata": {},
   "source": [
    "## Read the CSV"
   ]
  },
  {
   "cell_type": "code",
   "execution_count": 12,
   "id": "9f83d1bb-896c-46e2-81f0-b1d37838ef53",
   "metadata": {},
   "outputs": [
    {
     "data": {
      "text/html": [
       "<div>\n",
       "<style scoped>\n",
       "    .dataframe tbody tr th:only-of-type {\n",
       "        vertical-align: middle;\n",
       "    }\n",
       "\n",
       "    .dataframe tbody tr th {\n",
       "        vertical-align: top;\n",
       "    }\n",
       "\n",
       "    .dataframe thead th {\n",
       "        text-align: right;\n",
       "    }\n",
       "</style>\n",
       "<table border=\"1\" class=\"dataframe\">\n",
       "  <thead>\n",
       "    <tr style=\"text-align: right;\">\n",
       "      <th></th>\n",
       "      <th>First Name</th>\n",
       "      <th>Last Name</th>\n",
       "      <th>Email</th>\n",
       "      <th>Application Date</th>\n",
       "      <th>Country</th>\n",
       "      <th>YOE</th>\n",
       "      <th>Seniority</th>\n",
       "      <th>Technology</th>\n",
       "      <th>Code Challenge Score</th>\n",
       "      <th>Technical Interview Score</th>\n",
       "    </tr>\n",
       "  </thead>\n",
       "  <tbody>\n",
       "    <tr>\n",
       "      <th>0</th>\n",
       "      <td>Bernadette</td>\n",
       "      <td>Langworth</td>\n",
       "      <td>leonard91@yahoo.com</td>\n",
       "      <td>2021-02-26</td>\n",
       "      <td>Norway</td>\n",
       "      <td>2</td>\n",
       "      <td>Intern</td>\n",
       "      <td>Data Engineer</td>\n",
       "      <td>3</td>\n",
       "      <td>3</td>\n",
       "    </tr>\n",
       "    <tr>\n",
       "      <th>1</th>\n",
       "      <td>Camryn</td>\n",
       "      <td>Reynolds</td>\n",
       "      <td>zelda56@hotmail.com</td>\n",
       "      <td>2021-09-09</td>\n",
       "      <td>Panama</td>\n",
       "      <td>10</td>\n",
       "      <td>Intern</td>\n",
       "      <td>Data Engineer</td>\n",
       "      <td>2</td>\n",
       "      <td>10</td>\n",
       "    </tr>\n",
       "    <tr>\n",
       "      <th>2</th>\n",
       "      <td>Larue</td>\n",
       "      <td>Spinka</td>\n",
       "      <td>okey_schultz41@gmail.com</td>\n",
       "      <td>2020-04-14</td>\n",
       "      <td>Belarus</td>\n",
       "      <td>4</td>\n",
       "      <td>Mid-Level</td>\n",
       "      <td>Client Success</td>\n",
       "      <td>10</td>\n",
       "      <td>9</td>\n",
       "    </tr>\n",
       "    <tr>\n",
       "      <th>3</th>\n",
       "      <td>Arch</td>\n",
       "      <td>Spinka</td>\n",
       "      <td>elvera_kulas@yahoo.com</td>\n",
       "      <td>2020-10-01</td>\n",
       "      <td>Eritrea</td>\n",
       "      <td>25</td>\n",
       "      <td>Trainee</td>\n",
       "      <td>QA Manual</td>\n",
       "      <td>7</td>\n",
       "      <td>1</td>\n",
       "    </tr>\n",
       "    <tr>\n",
       "      <th>4</th>\n",
       "      <td>Larue</td>\n",
       "      <td>Altenwerth</td>\n",
       "      <td>minnie.gislason@gmail.com</td>\n",
       "      <td>2020-05-20</td>\n",
       "      <td>Myanmar</td>\n",
       "      <td>13</td>\n",
       "      <td>Mid-Level</td>\n",
       "      <td>Social Media Community Management</td>\n",
       "      <td>9</td>\n",
       "      <td>7</td>\n",
       "    </tr>\n",
       "  </tbody>\n",
       "</table>\n",
       "</div>"
      ],
      "text/plain": [
       "   First Name   Last Name                      Email Application Date  \\\n",
       "0  Bernadette   Langworth        leonard91@yahoo.com       2021-02-26   \n",
       "1      Camryn    Reynolds        zelda56@hotmail.com       2021-09-09   \n",
       "2       Larue      Spinka   okey_schultz41@gmail.com       2020-04-14   \n",
       "3        Arch      Spinka     elvera_kulas@yahoo.com       2020-10-01   \n",
       "4       Larue  Altenwerth  minnie.gislason@gmail.com       2020-05-20   \n",
       "\n",
       "   Country  YOE  Seniority                         Technology  \\\n",
       "0   Norway    2     Intern                      Data Engineer   \n",
       "1   Panama   10     Intern                      Data Engineer   \n",
       "2  Belarus    4  Mid-Level                     Client Success   \n",
       "3  Eritrea   25    Trainee                          QA Manual   \n",
       "4  Myanmar   13  Mid-Level  Social Media Community Management   \n",
       "\n",
       "   Code Challenge Score  Technical Interview Score  \n",
       "0                     3                          3  \n",
       "1                     2                         10  \n",
       "2                    10                          9  \n",
       "3                     7                          1  \n",
       "4                     9                          7  "
      ]
     },
     "execution_count": 12,
     "metadata": {},
     "output_type": "execute_result"
    }
   ],
   "source": [
    "df = pd.read_csv('../src/candidates.csv', sep=';')\n",
    "df.head()"
   ]
  },
  {
   "cell_type": "markdown",
   "id": "868a75e4-c43c-4d58-8f2e-ad2461b94001",
   "metadata": {},
   "source": [
    "## Description"
   ]
  },
  {
   "cell_type": "code",
   "execution_count": 13,
   "id": "4b90f663-34d7-40f1-ac8a-61378c6e529a",
   "metadata": {},
   "outputs": [
    {
     "data": {
      "text/html": [
       "<div>\n",
       "<style scoped>\n",
       "    .dataframe tbody tr th:only-of-type {\n",
       "        vertical-align: middle;\n",
       "    }\n",
       "\n",
       "    .dataframe tbody tr th {\n",
       "        vertical-align: top;\n",
       "    }\n",
       "\n",
       "    .dataframe thead th {\n",
       "        text-align: right;\n",
       "    }\n",
       "</style>\n",
       "<table border=\"1\" class=\"dataframe\">\n",
       "  <thead>\n",
       "    <tr style=\"text-align: right;\">\n",
       "      <th></th>\n",
       "      <th>YOE</th>\n",
       "      <th>Code Challenge Score</th>\n",
       "      <th>Technical Interview Score</th>\n",
       "    </tr>\n",
       "  </thead>\n",
       "  <tbody>\n",
       "    <tr>\n",
       "      <th>count</th>\n",
       "      <td>50000.000000</td>\n",
       "      <td>50000.000000</td>\n",
       "      <td>50000.000000</td>\n",
       "    </tr>\n",
       "    <tr>\n",
       "      <th>mean</th>\n",
       "      <td>15.286980</td>\n",
       "      <td>4.996400</td>\n",
       "      <td>5.003880</td>\n",
       "    </tr>\n",
       "    <tr>\n",
       "      <th>std</th>\n",
       "      <td>8.830652</td>\n",
       "      <td>3.166896</td>\n",
       "      <td>3.165082</td>\n",
       "    </tr>\n",
       "    <tr>\n",
       "      <th>min</th>\n",
       "      <td>0.000000</td>\n",
       "      <td>0.000000</td>\n",
       "      <td>0.000000</td>\n",
       "    </tr>\n",
       "    <tr>\n",
       "      <th>25%</th>\n",
       "      <td>8.000000</td>\n",
       "      <td>2.000000</td>\n",
       "      <td>2.000000</td>\n",
       "    </tr>\n",
       "    <tr>\n",
       "      <th>50%</th>\n",
       "      <td>15.000000</td>\n",
       "      <td>5.000000</td>\n",
       "      <td>5.000000</td>\n",
       "    </tr>\n",
       "    <tr>\n",
       "      <th>75%</th>\n",
       "      <td>23.000000</td>\n",
       "      <td>8.000000</td>\n",
       "      <td>8.000000</td>\n",
       "    </tr>\n",
       "    <tr>\n",
       "      <th>max</th>\n",
       "      <td>30.000000</td>\n",
       "      <td>10.000000</td>\n",
       "      <td>10.000000</td>\n",
       "    </tr>\n",
       "  </tbody>\n",
       "</table>\n",
       "</div>"
      ],
      "text/plain": [
       "                YOE  Code Challenge Score  Technical Interview Score\n",
       "count  50000.000000          50000.000000               50000.000000\n",
       "mean      15.286980              4.996400                   5.003880\n",
       "std        8.830652              3.166896                   3.165082\n",
       "min        0.000000              0.000000                   0.000000\n",
       "25%        8.000000              2.000000                   2.000000\n",
       "50%       15.000000              5.000000                   5.000000\n",
       "75%       23.000000              8.000000                   8.000000\n",
       "max       30.000000             10.000000                  10.000000"
      ]
     },
     "execution_count": 13,
     "metadata": {},
     "output_type": "execute_result"
    }
   ],
   "source": [
    "df.describe()"
   ]
  },
  {
   "cell_type": "markdown",
   "id": "66f90efa-5697-49c2-8770-282be123236e",
   "metadata": {},
   "source": [
    "## Data type"
   ]
  },
  {
   "cell_type": "code",
   "execution_count": 14,
   "id": "b1954ad6-730a-412d-9a4c-6a757c189f2d",
   "metadata": {},
   "outputs": [
    {
     "data": {
      "text/plain": [
       "First Name                   object\n",
       "Last Name                    object\n",
       "Email                        object\n",
       "Application Date             object\n",
       "Country                      object\n",
       "YOE                           int64\n",
       "Seniority                    object\n",
       "Technology                   object\n",
       "Code Challenge Score          int64\n",
       "Technical Interview Score     int64\n",
       "dtype: object"
      ]
     },
     "execution_count": 14,
     "metadata": {},
     "output_type": "execute_result"
    }
   ],
   "source": [
    "df.dtypes"
   ]
  },
  {
   "cell_type": "markdown",
   "id": "9361bd39-3b0a-4cbe-b15c-dd313a28cdf2",
   "metadata": {},
   "source": [
    "## General Information of the data and null values"
   ]
  },
  {
   "cell_type": "code",
   "execution_count": 15,
   "id": "4923a682-f45f-441c-8bfe-0198d317178f",
   "metadata": {},
   "outputs": [
    {
     "name": "stdout",
     "output_type": "stream",
     "text": [
      "<class 'pandas.core.frame.DataFrame'>\n",
      "RangeIndex: 50000 entries, 0 to 49999\n",
      "Data columns (total 10 columns):\n",
      " #   Column                     Non-Null Count  Dtype \n",
      "---  ------                     --------------  ----- \n",
      " 0   First Name                 50000 non-null  object\n",
      " 1   Last Name                  50000 non-null  object\n",
      " 2   Email                      50000 non-null  object\n",
      " 3   Application Date           50000 non-null  object\n",
      " 4   Country                    50000 non-null  object\n",
      " 5   YOE                        50000 non-null  int64 \n",
      " 6   Seniority                  50000 non-null  object\n",
      " 7   Technology                 50000 non-null  object\n",
      " 8   Code Challenge Score       50000 non-null  int64 \n",
      " 9   Technical Interview Score  50000 non-null  int64 \n",
      "dtypes: int64(3), object(7)\n",
      "memory usage: 3.8+ MB\n"
     ]
    },
    {
     "data": {
      "text/plain": [
       "First Name                   0\n",
       "Last Name                    0\n",
       "Email                        0\n",
       "Application Date             0\n",
       "Country                      0\n",
       "YOE                          0\n",
       "Seniority                    0\n",
       "Technology                   0\n",
       "Code Challenge Score         0\n",
       "Technical Interview Score    0\n",
       "dtype: int64"
      ]
     },
     "execution_count": 15,
     "metadata": {},
     "output_type": "execute_result"
    }
   ],
   "source": [
    "df.info()\n",
    "total_null_values = df.isna().sum()\n",
    "total_null_values"
   ]
  },
  {
   "cell_type": "raw",
   "id": "12d5c5b9-839f-450f-bc3f-53205bd9eee0",
   "metadata": {},
   "source": [
    "We can see that the dataset does not have any null values. "
   ]
  },
  {
   "cell_type": "markdown",
   "id": "ee3678f7-e684-4065-a3d8-1fbf25d9c004",
   "metadata": {},
   "source": [
    "## Dimensions of the dataset (number of rows and columns)"
   ]
  },
  {
   "cell_type": "code",
   "execution_count": 16,
   "id": "7ee6d689-1430-45fe-b964-80ccd46f6262",
   "metadata": {},
   "outputs": [
    {
     "name": "stdout",
     "output_type": "stream",
     "text": [
      "Number of rows: 50000\n",
      "Number of columns: 10\n"
     ]
    }
   ],
   "source": [
    "rows, columns = df.shape\n",
    "\n",
    "print(f\"Number of rows: {rows}\")\n",
    "print(f\"Number of columns: {columns}\")"
   ]
  },
  {
   "cell_type": "markdown",
   "id": "ab2eb3da-3a3d-4f1b-8f65-031e174e2980",
   "metadata": {},
   "source": [
    "## Total of duplicates"
   ]
  },
  {
   "cell_type": "code",
   "execution_count": 17,
   "id": "5205c901-9f9a-407e-8a8d-454fb2242caa",
   "metadata": {},
   "outputs": [
    {
     "data": {
      "text/plain": [
       "0"
      ]
     },
     "execution_count": 17,
     "metadata": {},
     "output_type": "execute_result"
    }
   ],
   "source": [
    "total_duplicates = df.duplicated().sum()\n",
    "total_duplicates"
   ]
  },
  {
   "cell_type": "raw",
   "id": "f219e6c9-aea3-4af7-9378-8c4a52d2ace8",
   "metadata": {},
   "source": [
    "We look at the duplicates to see if any data is repeated. (Not in this case)"
   ]
  },
  {
   "cell_type": "code",
   "execution_count": 18,
   "id": "aa6d72c2-3831-45cf-88d1-6daf50438131",
   "metadata": {},
   "outputs": [
    {
     "data": {
      "text/plain": [
       "array(['Data Engineer', 'Client Success', 'QA Manual',\n",
       "       'Social Media Community Management', 'Adobe Experience Manager',\n",
       "       'Sales', 'Mulesoft', 'DevOps', 'Development - CMS Backend',\n",
       "       'Salesforce', 'System Administration', 'Security',\n",
       "       'Game Development', 'Development - CMS Frontend',\n",
       "       'Security Compliance', 'Development - Backend', 'Design',\n",
       "       'Business Analytics / Project Management',\n",
       "       'Development - Frontend', 'Development - FullStack',\n",
       "       'Business Intelligence', 'Database Administration',\n",
       "       'QA Automation', 'Technical Writing'], dtype=object)"
      ]
     },
     "execution_count": 18,
     "metadata": {},
     "output_type": "execute_result"
    }
   ],
   "source": [
    "df['Technology'].unique()"
   ]
  },
  {
   "cell_type": "code",
   "execution_count": null,
   "id": "e36416fc-5a1a-46fd-9f7d-ad0fe976676e",
   "metadata": {},
   "outputs": [],
   "source": []
  }
 ],
 "metadata": {
  "kernelspec": {
   "display_name": "libraries",
   "language": "python",
   "name": "libraries"
  },
  "language_info": {
   "codemirror_mode": {
    "name": "ipython",
    "version": 3
   },
   "file_extension": ".py",
   "mimetype": "text/x-python",
   "name": "python",
   "nbconvert_exporter": "python",
   "pygments_lexer": "ipython3",
   "version": "3.11.5"
  }
 },
 "nbformat": 4,
 "nbformat_minor": 5
}
